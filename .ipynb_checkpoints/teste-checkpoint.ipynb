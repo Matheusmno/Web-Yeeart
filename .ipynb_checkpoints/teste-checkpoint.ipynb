{
 "cells": [
  {
   "cell_type": "code",
   "execution_count": null,
   "metadata": {},
   "outputs": [],
   "source": [
    "from ipywidgets import interact\n",
    "import numpy as np\n",
    "import random\n",
    "import nbinteract as nbi\n",
    "\n",
    "PRIZES = ['Car', 'Goat 1', 'Goat 2']\n",
    "\n",
    "def monty_hall(example_num=0):\n",
    "    '''\n",
    "    Simulates one round of the Monty Hall Problem. Outputs a tuple of\n",
    "    (result if stay, result if switch, result behind opened door) where\n",
    "    each results is one of PRIZES.\n",
    "    '''\n",
    "    pick = random.choice(PRIZES)\n",
    "    opened = random.choice(\n",
    "        [p for p in PRIZES if p != pick and p != 'Car']\n",
    "    )\n",
    "    remainder = next(p for p in PRIZES if p != pick and p != opened)\n",
    "    return (pick, remainder, opened)"
   ]
  },
  {
   "cell_type": "code",
   "execution_count": null,
   "metadata": {},
   "outputs": [],
   "source": [
    "interact(monty_hall, example_num=(0, 100));"
   ]
  },
  {
   "cell_type": "code",
   "execution_count": null,
   "metadata": {},
   "outputs": [],
   "source": [
    "def winner(example_num=0):\n",
    "    '''\n",
    "    Plays a game of Monty Hall. If staying with the original door wins\n",
    "    a car, return 'stay'. Otherwise, the remaining door contains the car\n",
    "    so 'switch' would have won.\n",
    "    '''\n",
    "    picked, _, _ = monty_hall()\n",
    "    return 'stay' if picked == 'Car' else 'switch'\n",
    "\n",
    "interact(winner, example_num=(0, 100));"
   ]
  },
  {
   "cell_type": "code",
   "execution_count": null,
   "metadata": {},
   "outputs": [],
   "source": [
    "# This function generates the x-values\n",
    "def categories(n):\n",
    "    return list('abcdefg')[:n]\n",
    "\n",
    "# This function generates the y-values (heights of bars)\n",
    "# The y response function always takes in the x-values as its\n",
    "# first argument\n",
    "def offset_y(xs, offset):\n",
    "    num_categories = len(xs)\n",
    "    return np.arange(num_categories) + offset\n",
    "\n",
    "# Each argument of the response functions is passed in as a keyword\n",
    "# argument to `nbi.bar` in the same format as `interact`\n",
    "nbi.bar(categories, offset_y, n=(1, 7), offset=(0, 10))"
   ]
  },
  {
   "cell_type": "code",
   "execution_count": null,
   "metadata": {},
   "outputs": [],
   "source": [
    "categories = ['stay', 'switch']\n",
    "\n",
    "winners = [winner() for _ in range(1000)]\n",
    "\n",
    "# Note that the the first argument to the y response function\n",
    "# will be the x-values which we don't need\n",
    "def won(_, num_games):\n",
    "    '''\n",
    "    Outputs a 2-tuple of the number of times each strategy won\n",
    "    after num_games games.\n",
    "    '''\n",
    "    return (winners[:num_games].count('stay'),\n",
    "            winners[:num_games].count('switch'))\n",
    "\n",
    "nbi.bar(categories, won, num_games=(1, 1000))"
   ]
  },
  {
   "cell_type": "code",
   "execution_count": null,
   "metadata": {},
   "outputs": [],
   "source": [
    "options = {\n",
    "    'title': 'Number of times each strategy wins',\n",
    "    'xlabel': 'Strategy',\n",
    "    'ylabel': 'Number of wins',\n",
    "    'ylim': (0, 700),\n",
    "}\n",
    "\n",
    "nbi.bar(categories, won, options=options, num_games=(1, 1000))"
   ]
  },
  {
   "cell_type": "code",
   "execution_count": null,
   "metadata": {},
   "outputs": [],
   "source": [
    "from ipywidgets import Play\n",
    "\n",
    "nbi.bar(categories, won, options=options,\n",
    "        num_games=Play(min=0, max=1000, step=10, value=0, interval=17))"
   ]
  }
 ],
 "metadata": {
  "kernelspec": {
   "display_name": "Python 3",
   "language": "python",
   "name": "python3"
  },
  "language_info": {
   "codemirror_mode": {
    "name": "ipython",
    "version": 3
   },
   "file_extension": ".py",
   "mimetype": "text/x-python",
   "name": "python",
   "nbconvert_exporter": "python",
   "pygments_lexer": "ipython3",
   "version": "3.7.4"
  }
 },
 "nbformat": 4,
 "nbformat_minor": 2
}
